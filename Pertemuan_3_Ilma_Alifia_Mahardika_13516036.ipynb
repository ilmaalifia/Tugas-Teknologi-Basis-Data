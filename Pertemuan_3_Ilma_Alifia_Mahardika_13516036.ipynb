{
 "cells": [
  {
   "cell_type": "markdown",
   "metadata": {},
   "source": [
    "Ilma Alifia Mahardika (13516036)"
   ]
  },
  {
   "cell_type": "markdown",
   "metadata": {},
   "source": [
    "### TUGAS 1"
   ]
  },
  {
   "cell_type": "code",
   "execution_count": 8,
   "metadata": {},
   "outputs": [],
   "source": [
    "import numpy as np\n",
    "import pandas as pd\n",
    "import matplotlib.pyplot as plt\n",
    "import statistics as st\n",
    "\n",
    "num_friends = [100,49,41,40,25,21,21,19,19,18,18,16,15,15,15,15,14,14,13,13,13,13,12,12,11,10,10,10,10,10,10,10,10,10,10,10,10,10,10,10,9,9,9,9,9,9,9,9,9,9,9,9,9,9,9,9,9,9,8,8,8,8,8,8,8,8,8,8,8,8,8,7,7,7,7,7,7,7,7,7,7,7,7,7,7,7,6,6,6,6,6,6,6,6,6,6,6,6,6,6,6,6,6,6,6,6,6,6,5,5,5,5,5,5,5,5,5,5,5,5,5,5,5,5,5,4,4,4,4,4,4,4,4,4,4,4,4,4,4,4,4,4,4,4,4,3,3,3,3,3,3,3,3,3,3,3,3,3,3,3,3,3,3,3,3,2,2,2,2,2,2,2,2,2,2,2,2,2,2,2,2,2,1,1,1,1,1,1,1,1,1,1,1,1,1,1,1,1,1,1,1,1,1,1]\n",
    "\n",
    "daily_minutes = [1,68.77,51.25,52.08,38.36,44.54,57.13,51.4,41.42,31.22,34.76,54.01,38.79,47.59,49.1,27.66,41.03,36.73,48.65,28.12,46.62,35.57,32.98,35,26.07,23.77,39.73,40.57,31.65,31.21,36.32,20.45,21.93,26.02,27.34,23.49,46.94,30.5,33.8,24.23,21.4,27.94,32.24,40.57,25.07,19.42,22.39,18.42,46.96,23.72,26.41,26.97,36.76,40.32,35.02,29.47,30.2,31,38.11,38.18,36.31,21.03,30.86,36.07,28.66,29.08,37.28,15.28,24.17,22.31,30.17,25.53,19.85,35.37,44.6,17.23,13.47,26.33,35.02,32.09,24.81,19.33,28.77,24.26,31.98,25.73,24.86,16.28,34.51,15.23,39.72,40.8,26.06,35.76,34.76,16.13,44.04,18.03,19.65,32.62,35.59,39.43,14.18,35.24,40.13,41.82,35.45,36.07,43.67,24.61,20.9,21.9,18.79,27.61,27.21,26.61,29.77,20.59,27.53,13.82,33.2,25,33.1,36.65,18.63,14.87,22.2,36.81,25.53,24.62,26.25,18.21,28.08,19.42,29.79,32.8,35.99,28.32,27.79,35.88,29.06,36.28,14.1,36.63,37.49,26.9,18.58,38.48,24.48,18.95,33.55,14.24,29.04,32.51,25.63,22.22,19,32.73,15.16,13.9,27.2,32.01,29.27,33,13.74,20.42,27.32,18.23,35.35,28.48,9.08,24.62,20.12,35.26,19.92,31.02,16.49,12.16,30.7,31.22,34.65,13.13,27.51,33.2,31.57,14.1,33.42,17.44,10.12,24.42,9.82,23.39,30.93,15.03,21.67,31.09,33.29,22.61,26.89,23.48,8.38,27.81,32.35,23.84]\n",
    "\n",
    "df = pd.DataFrame()\n",
    "df['num_friends'] = num_friends\n",
    "df['daily_minutes'] = daily_minutes"
   ]
  },
  {
   "cell_type": "code",
   "execution_count": 9,
   "metadata": {},
   "outputs": [
    {
     "data": {
      "text/plain": [
       "100"
      ]
     },
     "execution_count": 9,
     "metadata": {},
     "output_type": "execute_result"
    }
   ],
   "source": [
    "max(num_friends)"
   ]
  },
  {
   "cell_type": "code",
   "execution_count": 10,
   "metadata": {},
   "outputs": [
    {
     "data": {
      "text/plain": [
       "1"
      ]
     },
     "execution_count": 10,
     "metadata": {},
     "output_type": "execute_result"
    }
   ],
   "source": [
    "min(num_friends)"
   ]
  },
  {
   "cell_type": "code",
   "execution_count": 11,
   "metadata": {},
   "outputs": [
    {
     "data": {
      "text/plain": [
       "1"
      ]
     },
     "execution_count": 11,
     "metadata": {},
     "output_type": "execute_result"
    }
   ],
   "source": [
    "def second_smallest_value(n):\n",
    "    temp = []\n",
    "    for i in n:\n",
    "        temp.append(i)\n",
    "    temp.remove(min(temp))\n",
    "    return min(temp)\n",
    "\n",
    "second_smallest_value(num_friends)"
   ]
  },
  {
   "cell_type": "code",
   "execution_count": 12,
   "metadata": {},
   "outputs": [
    {
     "data": {
      "text/plain": [
       "49"
      ]
     },
     "execution_count": 12,
     "metadata": {},
     "output_type": "execute_result"
    }
   ],
   "source": [
    "def second_largest_value(n):\n",
    "    temp = []\n",
    "    for i in n:\n",
    "        temp.append(i)\n",
    "    temp.remove(max(temp))\n",
    "    return max(temp)\n",
    "\n",
    "second_largest_value(num_friends)"
   ]
  },
  {
   "cell_type": "code",
   "execution_count": 13,
   "metadata": {},
   "outputs": [
    {
     "data": {
      "text/plain": [
       "7.333333333333333"
      ]
     },
     "execution_count": 13,
     "metadata": {},
     "output_type": "execute_result"
    }
   ],
   "source": [
    "np.mean(num_friends)"
   ]
  },
  {
   "cell_type": "code",
   "execution_count": 14,
   "metadata": {},
   "outputs": [
    {
     "data": {
      "text/plain": [
       "6.0"
      ]
     },
     "execution_count": 14,
     "metadata": {},
     "output_type": "execute_result"
    }
   ],
   "source": [
    "np.median(num_friends)"
   ]
  },
  {
   "cell_type": "code",
   "execution_count": 15,
   "metadata": {},
   "outputs": [
    {
     "data": {
      "text/plain": [
       "1.0"
      ]
     },
     "execution_count": 15,
     "metadata": {},
     "output_type": "execute_result"
    }
   ],
   "source": [
    "df['num_friends'].quantile(0.10)"
   ]
  },
  {
   "cell_type": "code",
   "execution_count": 16,
   "metadata": {},
   "outputs": [
    {
     "data": {
      "text/plain": [
       "3.0"
      ]
     },
     "execution_count": 16,
     "metadata": {},
     "output_type": "execute_result"
    }
   ],
   "source": [
    "df['num_friends'].quantile(0.25)"
   ]
  },
  {
   "cell_type": "code",
   "execution_count": 17,
   "metadata": {},
   "outputs": [
    {
     "data": {
      "text/plain": [
       "9.0"
      ]
     },
     "execution_count": 17,
     "metadata": {},
     "output_type": "execute_result"
    }
   ],
   "source": [
    "df['num_friends'].quantile(0.75)"
   ]
  },
  {
   "cell_type": "code",
   "execution_count": 18,
   "metadata": {},
   "outputs": [
    {
     "data": {
      "text/plain": [
       "13.0"
      ]
     },
     "execution_count": 18,
     "metadata": {},
     "output_type": "execute_result"
    }
   ],
   "source": [
    "df['num_friends'].quantile(0.90)"
   ]
  },
  {
   "cell_type": "code",
   "execution_count": 19,
   "metadata": {},
   "outputs": [
    {
     "data": {
      "text/plain": [
       "[1, 6]"
      ]
     },
     "execution_count": 19,
     "metadata": {},
     "output_type": "execute_result"
    }
   ],
   "source": [
    "def mode(num):\n",
    "    n = []\n",
    "    for i in num:\n",
    "        n.append(i)\n",
    "    n_set = set(n)\n",
    "    maks = 0\n",
    "    ret = {}\n",
    "    for i in n_set:\n",
    "        cnt = 0\n",
    "        for j in n:\n",
    "            if i == j:\n",
    "               cnt += 1\n",
    "        ret[i] = cnt    \n",
    "        if maks < cnt:\n",
    "            maks = cnt\n",
    "    final = []\n",
    "    for i in ret:\n",
    "        if ret[i] == maks:\n",
    "            final.append(i)\n",
    "    return final\n",
    "\n",
    "mode(num_friends)"
   ]
  },
  {
   "cell_type": "code",
   "execution_count": 20,
   "metadata": {},
   "outputs": [
    {
     "data": {
      "text/plain": [
       "99"
      ]
     },
     "execution_count": 20,
     "metadata": {},
     "output_type": "execute_result"
    }
   ],
   "source": [
    "def data_range(n):\n",
    "    return max(n)-min(n)\n",
    "\n",
    "data_range(num_friends)"
   ]
  },
  {
   "cell_type": "code",
   "execution_count": 21,
   "metadata": {},
   "outputs": [
    {
     "data": {
      "text/plain": [
       "81.54351395730716"
      ]
     },
     "execution_count": 21,
     "metadata": {},
     "output_type": "execute_result"
    }
   ],
   "source": [
    "df['num_friends'].var()"
   ]
  },
  {
   "cell_type": "code",
   "execution_count": 22,
   "metadata": {},
   "outputs": [
    {
     "data": {
      "text/plain": [
       "9.03014473623248"
      ]
     },
     "execution_count": 22,
     "metadata": {},
     "output_type": "execute_result"
    }
   ],
   "source": [
    "df['num_friends'].std()"
   ]
  },
  {
   "cell_type": "code",
   "execution_count": 23,
   "metadata": {},
   "outputs": [
    {
     "data": {
      "text/plain": [
       "6.0"
      ]
     },
     "execution_count": 23,
     "metadata": {},
     "output_type": "execute_result"
    }
   ],
   "source": [
    "def interquartile(n):\n",
    "    return n.quantile(0.75) - n.quantile(0.25)\n",
    "interquartile(df['num_friends'])"
   ]
  },
  {
   "cell_type": "code",
   "execution_count": 24,
   "metadata": {},
   "outputs": [
    {
     "data": {
      "text/plain": [
       "22.425435139573054"
      ]
     },
     "execution_count": 24,
     "metadata": {},
     "output_type": "execute_result"
    }
   ],
   "source": [
    "def covariance(m, n):\n",
    "    return (df.cov())[m][n]\n",
    "covariance('num_friends', 'daily_minutes')"
   ]
  },
  {
   "cell_type": "code",
   "execution_count": 25,
   "metadata": {},
   "outputs": [
    {
     "data": {
      "text/plain": [
       "0.24736957366478213"
      ]
     },
     "execution_count": 25,
     "metadata": {},
     "output_type": "execute_result"
    }
   ],
   "source": [
    "df.corr()['num_friends']['daily_minutes']"
   ]
  },
  {
   "cell_type": "code",
   "execution_count": 26,
   "metadata": {},
   "outputs": [],
   "source": [
    "#correlation('num_friends_good', 'daily_minutes_good')"
   ]
  },
  {
   "cell_type": "code",
   "execution_count": 27,
   "metadata": {},
   "outputs": [
    {
     "data": {
      "image/png": "[encoded data removed]",
      "text/plain": [
       "<Figure size 432x288 with 1 Axes>"
      ]
     },
     "metadata": {},
     "output_type": "display_data"
    }
   ],
   "source": [
    "plt.scatter(df['num_friends'], df['daily_minutes'])\n",
    "\n",
    "plt.xlabel('# of friends')\n",
    "plt.ylabel('minutes per day')\n",
    "plt.xlim(right = 50)\n",
    "\n",
    "plt.show()"
   ]
  },
  {
   "cell_type": "code",
   "execution_count": 28,
   "metadata": {},
   "outputs": [
    {
     "data": {
      "image/png": "[encoded data removed]",
      "text/plain": [
       "<Figure size 432x288 with 1 Axes>"
      ]
     },
     "metadata": {},
     "output_type": "display_data"
    }
   ],
   "source": [
    "plt.hist(df['num_friends'], bins=100)\n",
    "\n",
    "plt.xlabel('# of friends')\n",
    "plt.ylabel('# of friends')\n",
    "\n",
    "plt.show()"
   ]
  },
  {
   "cell_type": "code",
   "execution_count": 29,
   "metadata": {},
   "outputs": [],
   "source": [
    "from bs4 import BeautifulSoup\n",
    "from urllib.request import urlopen, Request\n",
    "import re\n",
    "\n",
    "f = open('dataInsta.txt', 'r')\n",
    "uname = []\n",
    "for i in f:\n",
    "    uname.append(re.sub('[/\\n]','',i))"
   ]
  },
  {
   "cell_type": "code",
   "execution_count": 30,
   "metadata": {},
   "outputs": [
    {
     "name": "stdout",
     "output_type": "stream",
     "text": [
      "audrykth is not found\n",
      "rosananhr is not found\n",
      "dendysequerpant is not found\n",
      "dessymeliyana_04 is not found\n",
      "andikariady09 is not found\n",
      "dras1379n is not found\n",
      "kevalamphere9c8d1 is not found\n",
      "bisnis_04 is not found\n",
      "gail_gaurifa_70b69 is not found\n",
      "rudiknsc19 is not found\n",
      "jorshin_07 is not found\n",
      "riskyajahehe is not found\n",
      "devigzl is not found\n",
      "faizrymuhamad is not found\n",
      "iamtan_06 is not found\n",
      "christianoloan08 is not found\n",
      "laurydecoration_ is not found\n",
      "mnhyn_soo is not found\n",
      "bwbd07711934419 is not found\n"
     ]
    }
   ],
   "source": [
    "headers = {\"User-Agent\":\"Mozilla/64.0\"}\n",
    "url = 'https://www.instagram.com/'\n",
    "follower = []\n",
    "post = []\n",
    "\n",
    "def toNum(n):\n",
    "    if ',' in n:\n",
    "        return float(re.sub(',', '', n))\n",
    "    elif 'k' in n:\n",
    "        return float(re.sub('k', '', n))*1000\n",
    "    else:\n",
    "        return float(n)\n",
    "for i in uname:\n",
    "    try:\n",
    "       r = urlopen(Request(url+i, None, headers)).read()\n",
    "    except Exception:\n",
    "        print (i, end='')\n",
    "        print (' is not found')\n",
    "        continue\n",
    "    \n",
    "    soup = BeautifulSoup(r, \"html5lib\")\n",
    "    desc = (soup.find('meta', attrs={'name': 'description'}))['content']\n",
    "    final = re.split(' ', desc)\n",
    "    follower.append(toNum(final[0]))\n",
    "    post.append(toNum(final[4])) "
   ]
  },
  {
   "cell_type": "code",
   "execution_count": 31,
   "metadata": {},
   "outputs": [
    {
     "data": {
      "text/html": [
       "<div>\n",
       "<style scoped>\n",
       "    .dataframe tbody tr th:only-of-type {\n",
       "        vertical-align: middle;\n",
       "    }\n",
       "\n",
       "    .dataframe tbody tr th {\n",
       "        vertical-align: top;\n",
       "    }\n",
       "\n",
       "    .dataframe thead th {\n",
       "        text-align: right;\n",
       "    }\n",
       "</style>\n",
       "<table border=\"1\" class=\"dataframe\">\n",
       "  <thead>\n",
       "    <tr style=\"text-align: right;\">\n",
       "      <th></th>\n",
       "      <th>follower</th>\n",
       "      <th>post</th>\n",
       "    </tr>\n",
       "  </thead>\n",
       "  <tbody>\n",
       "    <tr>\n",
       "      <th>follower</th>\n",
       "      <td>1.000000</td>\n",
       "      <td>0.274324</td>\n",
       "    </tr>\n",
       "    <tr>\n",
       "      <th>post</th>\n",
       "      <td>0.274324</td>\n",
       "      <td>1.000000</td>\n",
       "    </tr>\n",
       "  </tbody>\n",
       "</table>\n",
       "</div>"
      ],
      "text/plain": [
       "          follower      post\n",
       "follower  1.000000  0.274324\n",
       "post      0.274324  1.000000"
      ]
     },
     "execution_count": 31,
     "metadata": {},
     "output_type": "execute_result"
    }
   ],
   "source": [
    "dat = pd.DataFrame()\n",
    "dat['follower'] = follower\n",
    "dat['post'] = post\n",
    "dat.corr()"
   ]
  },
  {
   "cell_type": "markdown",
   "metadata": {},
   "source": [
    "### TUGAS 2"
   ]
  },
  {
   "cell_type": "code",
   "execution_count": 32,
   "metadata": {},
   "outputs": [
    {
     "name": "stdout",
     "output_type": "stream",
     "text": [
      "0.5017\n",
      "0.7505\n",
      "0.5128562886186964\n",
      "Pernyataan Pertama =  True\n",
      "0.342838107928048\n",
      "Pernyataan Kedua =  False\n"
     ]
    }
   ],
   "source": [
    "from random import choice\n",
    "moods = ['happy', 'sad']\n",
    "result = []\n",
    "count_test = 10000\n",
    "for i in range(count_test):\n",
    "    temp = []\n",
    "    temp.append(choice(moods))\n",
    "    temp.append(choice(moods))\n",
    "    result.append(temp)\n",
    "    \n",
    "cnt_happy_happy = 0\n",
    "cnt_sad_sad = 0\n",
    "cnt_happy_sad = 0\n",
    "cnt_sad_happy = 0\n",
    "for i in result:\n",
    "    if i[0] == 'happy' and i[1] == 'happy':\n",
    "        cnt_happy_happy += 1\n",
    "    elif i[0] == 'happy' and i[1] == 'sad':\n",
    "        cnt_happy_sad += 1\n",
    "    elif i[0] == 'sad' and i[1] == 'happy':\n",
    "        cnt_sad_happy += 1\n",
    "    else:\n",
    "        cnt_sad_sad += 1\n",
    "\n",
    "def P(event, sample_space):\n",
    "    return event/sample_space\n",
    "\n",
    "#Peluang hari pertama senang\n",
    "p1 = P(cnt_happy_happy+cnt_happy_sad, count_test)\n",
    "print(p1)\n",
    "#Peluang setidaknya satu hari senang\n",
    "p2 = P(cnt_happy_happy+cnt_happy_sad+cnt_sad_happy, count_test)\n",
    "print(p2)\n",
    "# P(B | A) = P(A n B) / P(A)\n",
    "#Peluang (kedua hari senang) jika diketahui (hari pertama senang) adalah 0.5\n",
    "case1 = P(cnt_happy_happy, count_test)/p1\n",
    "print(case1)\n",
    "print('Pernyataan Pertama = ', round(case1, 1) == 0.5)\n",
    "#Peluang (kedua hari senang) jika diketahui (setidaknya ada satu hari senang) adalah 0.25\n",
    "case2 = P(cnt_happy_happy, count_test)/p2\n",
    "print(case2)\n",
    "print('Pernyataan Kedua = ', round(case2, 2) == 0.25)"
   ]
  },
  {
   "cell_type": "code",
   "execution_count": 33,
   "metadata": {},
   "outputs": [
    {
     "name": "stdout",
     "output_type": "stream",
     "text": [
      "Real Madrid wins      95\n",
      "Draws                 49\n",
      "Barcelona wins        92\n",
      "Real madrid goals    398\n",
      "Barcelona goals      384\n",
      "Total matches        236\n",
      "dtype: int64\n",
      "             Home Wins  Home Draws  Home Losses  Other Venue Wins\n",
      "Real Madrid         64          25           28                 4\n",
      "Barcelona           62          24           27                 2\n",
      "            Pred. Madrid Win  Pred. Draw  Pred. Barca Win  Total\n",
      "Madrid Win                 6           0                4     10\n",
      "Draw                       2           0                7      9\n",
      "Barca Win                  7           0                8     15\n",
      "Total                     15           0               19     34\n",
      "            Madrid Home  Barca Home  Total\n",
      "Madrid Win            6           4     10\n",
      "Draw                  3           6      9\n",
      "Barca Win             8           7     15\n",
      "Total                17          17     34\n"
     ]
    }
   ],
   "source": [
    "win_data = pd.Series([95, 49, 92, 398, 384, 236], index = ['Real Madrid wins', 'Draws', 'Barcelona wins', 'Real madrid goals', 'Barcelona goals', 'Total matches'])\n",
    "print(win_data)\n",
    "\n",
    "home_match = pd.DataFrame({'Home Wins' : pd.Series([64,62], index = ['Real Madrid', 'Barcelona']),\n",
    "                           'Home Draws' : pd.Series([25,24], index = ['Real Madrid', 'Barcelona']),\n",
    "                           'Home Losses' : pd.Series([28,27], index = ['Real Madrid', 'Barcelona']),\n",
    "                           'Other Venue Wins' : pd.Series([4,2], index = ['Real Madrid', 'Barcelona'])})\n",
    "print(home_match)\n",
    "\n",
    "betting_odds = pd.DataFrame({'Pred. Madrid Win' : pd.Series([6, 2, 7, 15], index = ['Madrid Win', 'Draw', 'Barca Win', 'Total']),\n",
    "                             'Pred. Draw' : pd.Series([0, 0, 0, 0], index = ['Madrid Win', 'Draw', 'Barca Win', 'Total']),\n",
    "                             'Pred. Barca Win' : pd.Series([4, 7, 8, 19], index = ['Madrid Win', 'Draw', 'Barca Win', 'Total']),\n",
    "                             'Total' : pd.Series([10, 9, 15, 34], index = ['Madrid Win', 'Draw', 'Barca Win', 'Total'])})\n",
    "print(betting_odds)\n",
    "\n",
    "home_stadium = pd.DataFrame({'Madrid Home' : pd.Series([6, 3, 8, 17], index = ['Madrid Win', 'Draw', 'Barca Win', 'Total']),\n",
    "                             'Barca Home' : pd.Series([4, 6, 7, 17], index = ['Madrid Win', 'Draw', 'Barca Win', 'Total']),\n",
    "                             'Total' : pd.Series([10, 9, 15, 34], index = ['Madrid Win', 'Draw', 'Barca Win', 'Total'])})\n",
    "print(home_stadium)"
   ]
  },
  {
   "cell_type": "code",
   "execution_count": 34,
   "metadata": {},
   "outputs": [
    {
     "name": "stdout",
     "output_type": "stream",
     "text": [
      "Peluang dari Madrid menang sesuai prediksi =  0.12319114462373726\n",
      "Peluang dari Barca menang sesuai prediksi =  0.018922058101191484\n"
     ]
    },
    {
     "data": {
      "image/png": "[encoded data removed]",
      "text/plain": [
       "<Figure size 432x288 with 1 Axes>"
      ]
     },
     "metadata": {},
     "output_type": "display_data"
    },
    {
     "data": {
      "image/png": "[encoded data removed]",
      "text/plain": [
       "<Figure size 432x288 with 1 Axes>"
      ]
     },
     "metadata": {},
     "output_type": "display_data"
    }
   ],
   "source": [
    "from scipy.stats import binom\n",
    "\n",
    "P_Madrid_Wins = win_data['Real Madrid wins'] / win_data['Total matches']\n",
    "P_Barca_Wins = win_data['Barcelona wins'] / win_data['Total matches']\n",
    "P_Draws = win_data['Draws'] / win_data['Total matches']\n",
    "P_Madrid_Draws = home_match['Home Draws']['Real Madrid'] / win_data['Total matches']\n",
    "P_Barca_Draws = home_match['Home Draws']['Barcelona'] / win_data['Total matches']\n",
    "P_Madrid_Wins_Home = home_match['Home Wins']['Real Madrid'] / win_data['Total matches']\n",
    "P_Barca_Wins_Home = home_match['Home Wins']['Barcelona'] / win_data['Total matches']\n",
    "P_Madrid_Wins_Not_Home = (home_match['Home Losses']['Barcelona'] + home_match['Other Venue Wins']['Real Madrid']) / win_data['Total matches']\n",
    "P_Barca_Wins_Not_Home = (home_match['Home Losses']['Real Madrid'] + home_match['Other Venue Wins']['Barcelona']) / win_data['Total matches']\n",
    "\n",
    "#Peluang dari Madrid menang sesuai prediksi\n",
    "P1 = binom.pmf(betting_odds['Pred. Madrid Win']['Total'], betting_odds['Total']['Total'], P_Madrid_Wins)\n",
    "print('Peluang dari Madrid menang sesuai prediksi = ', P1)\n",
    "\n",
    "#Peluang dari Barca menang sesuai prediksi\n",
    "P2 = binom.pmf(betting_odds['Pred. Barca Win']['Total'], betting_odds['Total']['Total'], P_Barca_Wins)\n",
    "print('Peluang dari Barca menang sesuai prediksi = ', P2)\n",
    "\n",
    "#Grafik Distribusi Peluang Jumlah Kemenangan Madrid\n",
    "x = []\n",
    "y = []\n",
    "for i in range(1,betting_odds['Pred. Madrid Win']['Total']+1):\n",
    "    x.append(i)\n",
    "    y.append(binom.pmf(i, betting_odds['Total']['Total'], P_Madrid_Wins))\n",
    "plt.plot(x, y)\n",
    "plt.title('Grafik Distribusi Peluang Jumlah Kemenangan Madrid')\n",
    "plt.xlim(0, 20)\n",
    "plt.show()\n",
    "\n",
    "#Grafik Distribusi Peluang Jumlah Kemenangan Barca\n",
    "x = []\n",
    "y = []\n",
    "for i in range(1,betting_odds['Pred. Barca Win']['Total']+1):\n",
    "    x.append(i)\n",
    "    y.append(binom.pmf(i, betting_odds['Total']['Total'], P_Barca_Wins))\n",
    "plt.plot(x, y)\n",
    "plt.title('Grafik Distribusi Peluang Jumlah Kemenangan Barca')\n",
    "plt.xlim(0, 20)\n",
    "plt.show()"
   ]
  },
  {
   "cell_type": "code",
   "execution_count": null,
   "metadata": {},
   "outputs": [],
   "source": []
  }
 ],
 "metadata": {
  "kernelspec": {
   "display_name": "Python 3",
   "language": "python",
   "name": "python3"
  },
  "language_info": {
   "codemirror_mode": {
    "name": "ipython",
    "version": 3
   },
   "file_extension": ".py",
   "mimetype": "text/x-python",
   "name": "python",
   "nbconvert_exporter": "python",
   "pygments_lexer": "ipython3",
   "version": "3.6.7"
  }
 },
 "nbformat": 4,
 "nbformat_minor": 2
}
