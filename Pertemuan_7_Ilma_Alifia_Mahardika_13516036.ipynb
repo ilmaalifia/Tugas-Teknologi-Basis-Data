{
 "cells": [
  {
   "cell_type": "markdown",
   "metadata": {},
   "source": [
    "### Ilma Alifia Mahardika (13516036)"
   ]
  },
  {
   "cell_type": "code",
   "execution_count": null,
   "metadata": {},
   "outputs": [],
   "source": [
    "import numpy as np\n",
    "import pandas as pd\n",
    "import matplotlib.pyplot as plt\n",
    "from sklearn import linear_model, metrics\n",
    "from sklearn.model_selection import train_test_split\n",
    "from sklearn import tree\n",
    "from sklearn import preprocessing\n",
    "import graphviz\n",
    "from scipy.optimize import curve_fit\n",
    "from sklearn.model_selection import cross_val_score, KFold\n",
    "\n",
    "# pd.set_option('display.max_rows', 3000)\n",
    "\n",
    "dt = pd.read_csv('FlightDelays.csv')\n",
    "\n",
    "dt"
   ]
  },
  {
   "cell_type": "markdown",
   "metadata": {},
   "source": [
    "## Q1: Fast and First Analyze"
   ]
  },
  {
   "cell_type": "markdown",
   "metadata": {},
   "source": [
    "<b>● Lihat datanya cari maknanya.</b>"
   ]
  },
  {
   "cell_type": "markdown",
   "metadata": {},
   "source": [
    "Informasi umum penerbangan. Data menunjukkan beberapa atribut independent (<i>schedtime, carrier, deptime, dest, distance, date, flightnumber, origin, weather, dayweek, daymonth, tailnu</i>) dengan atribut dependent-nya adalah apakah sebuah pesawat delayed atau ontime (<i>delay</i>)."
   ]
  },
  {
   "cell_type": "markdown",
   "metadata": {},
   "source": [
    "<b>● Analisa dan tentukan metode decision tree yang tepat untuk mengolah data.</b>"
   ]
  },
  {
   "cell_type": "markdown",
   "metadata": {},
   "source": [
    "Dataset ini memiliki jumlah atribut yang banyak. Atribut yang banyak akan membentuk decision tree yang sangat kompleks ketika mencapai pure/entropy = 0 (dapat dilihat di visualisasi decision tree di bawah). Decision tree yang kompleks cenderung mengalami overfitting. Oleh karena itu kita perlu melakukan metode <i>overfitting avoidance</i>. Caranya dengan membagi dataset ke data training dan data testing. Membatasi jumlah daun pada model decision tree, atau dengan kata lain kita harus menetapkan <i>maximum number of leaf node</i>. Angka maksimum ini dapat diambil dengan cara melihat ke <i>fitting graph</i>. Jumlah daun yang diambil adalah ketika potensi overfitting rendah (saat data test dan train memiliki jarak relatif dekat). Selain itu dapat dilakukan metode <i>pruning</i> atau pemangkasan bagian tree yang dianggap kurang memberi pengaruh."
   ]
  },
  {
   "cell_type": "markdown",
   "metadata": {},
   "source": [
    "<b>● Tentukan metode avoid overfitting dan underfitting.</b>"
   ]
  },
  {
   "cell_type": "markdown",
   "metadata": {},
   "source": [
    "Metode avoid overfitting:\n",
    "\n",
    "● Memisahkan dataset menjadi data train dan data test (<i>holdout data</i> atau <i>cross validation</i>)\n",
    "\n",
    "● <i>Set maximum number of leaf node</i>\n",
    "\n",
    "● Pruning\n",
    "\n",
    "Metode avoid underfitting:\n",
    "\n",
    "● Menambah fitur pada data, namun karena dataset ini memiliki atribut banyak, jadi dataset ini lebih cenderung mengalami overfitting"
   ]
  },
  {
   "cell_type": "markdown",
   "metadata": {},
   "source": [
    "## Q2: Do and Analyze"
   ]
  },
  {
   "cell_type": "markdown",
   "metadata": {},
   "source": [
    "Lakukan metode-metode decision tree dan uji coba modelnya kemudian\n",
    "hindarkan dari overfitting"
   ]
  },
  {
   "cell_type": "code",
   "execution_count": null,
   "metadata": {},
   "outputs": [],
   "source": [
    "# encode the categories\n",
    "le = preprocessing.LabelEncoder()\n",
    "dt = dt.apply(le.fit_transform)\n",
    "\n",
    "x = dt[dt.columns[:-1]]\n",
    "\n",
    "y = dt[dt.columns[-1]]\n",
    "\n",
    "# decide data training and data testing\n",
    "\n",
    "x_train, x_test, y_train, y_test = train_test_split(x, y, test_size=0.15)\n",
    "\n",
    "# decision tree model\n",
    "\n",
    "tr = tree.DecisionTreeClassifier(criterion = \"entropy\") \n",
    "tr.fit(x_train, y_train)\n",
    "\n",
    "tr_pred = tr.predict(x_test)\n",
    "\n",
    "print('Model accuracy: ', metrics.accuracy_score(y_test, tr_pred))\n",
    "\n",
    "plt.scatter(y_test, tr_pred)\n",
    "plt.xlabel('True Values')\n",
    "plt.ylabel('Predictions')"
   ]
  },
  {
   "cell_type": "code",
   "execution_count": null,
   "metadata": {},
   "outputs": [],
   "source": [
    "# decision tree visualization\n",
    "\n",
    "dot_data = tree.export_graphviz(tr, out_file=None,feature_names=x.columns,  \n",
    "                                 class_names=['ontime', 'delayed'],  \n",
    "                                 filled=True, rounded=True,  \n",
    "                                 special_characters=True)\n",
    "graph = graphviz.Source(dot_data)  \n",
    "graph"
   ]
  },
  {
   "cell_type": "code",
   "execution_count": null,
   "metadata": {},
   "outputs": [],
   "source": [
    "# cross validation score\n",
    "\n",
    "# using cross_val_score\n",
    "score1 = cross_val_score(tr, x, y, cv=10)\n",
    "print(score1)\n",
    "\n",
    "# using cross_validate\n",
    "score2 = cross_validate(tr, x, y, cv=10, return_train_score=False)\n",
    "                         \n",
    "score2 "
   ]
  },
  {
   "cell_type": "markdown",
   "metadata": {},
   "source": [
    "Score akurasi bertambah setelah cross validation. Selanjutnya dibuat prediksi baru setelah cross validation."
   ]
  },
  {
   "cell_type": "code",
   "execution_count": null,
   "metadata": {},
   "outputs": [],
   "source": [
    "predictions = cross_val_predict(tr, dt, y, cv=10)\n",
    "\n",
    "print('Model accuracy: ', metrics.r2_score(y, predictions))\n",
    "\n",
    "plt.scatter(y, predictions)\n",
    "plt.xlabel('True Values')\n",
    "plt.ylabel('Predictions')"
   ]
  },
  {
   "cell_type": "markdown",
   "metadata": {},
   "source": [
    "Model decision tree setelah cross validation memiliki akurasi 1 berarti model dapat dengan benar menentukan apakah sebuah pesawat delayed atau ontime."
   ]
  }
 ],
 "metadata": {
  "kernelspec": {
   "display_name": "Python 3",
   "language": "python",
   "name": "python3"
  },
  "language_info": {
   "codemirror_mode": {
    "name": "ipython",
    "version": 3
   },
   "file_extension": ".py",
   "mimetype": "text/x-python",
   "name": "python",
   "nbconvert_exporter": "python",
   "pygments_lexer": "ipython3",
   "version": "3.6.7"
  }
 },
 "nbformat": 4,
 "nbformat_minor": 2
}
