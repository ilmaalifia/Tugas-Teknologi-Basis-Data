{
 "cells": [
  {
   "cell_type": "markdown",
   "metadata": {},
   "source": [
    "# TUGAS PERTEMUAN 4\n",
    "### Ilma Alifia Mahardika (13516036)"
   ]
  },
  {
   "cell_type": "markdown",
   "metadata": {},
   "source": [
    "## Q1"
   ]
  },
  {
   "cell_type": "markdown",
   "metadata": {},
   "source": [
    "Apa definisi kata model pada data science menurut pemahaman anda?"
   ]
  },
  {
   "cell_type": "markdown",
   "metadata": {},
   "source": [
    "Model pada data science menurut saya adalah gambaran atau pattern umum yang digunakan untuk memproses sebuah permasalahan data science sehingga ditemukan sebuah solusi dengan error rendah, maximum likelihood, dan confident tinggi"
   ]
  },
  {
   "cell_type": "markdown",
   "metadata": {},
   "source": [
    "## Q2"
   ]
  },
  {
   "cell_type": "markdown",
   "metadata": {},
   "source": [
    "● Apa yang dimaksud dengan gradient descent?"
   ]
  },
  {
   "cell_type": "markdown",
   "metadata": {},
   "source": [
    "Gradient decent merupakan salah satu strategi optimasi dengan cara mencari turunan dari data lalu dicari perubahan yang menyebabkan penurunan error paling banyak"
   ]
  },
  {
   "cell_type": "markdown",
   "metadata": {},
   "source": [
    "● Bagaimana cara dan keadaan data yang tepat untuk menggunakannya?"
   ]
  },
  {
   "cell_type": "markdown",
   "metadata": {},
   "source": [
    "Caranya dengan menentukan learning rate yang tidak terlalu tinggi maupun terlalu rendah dan menentukan fungsi yang akan dievaluasi, keadaan datanya yaitu yang memiliki fungsi multivariabel"
   ]
  },
  {
   "cell_type": "markdown",
   "metadata": {},
   "source": [
    "● Tujuan dari gradient descent?"
   ]
  },
  {
   "cell_type": "markdown",
   "metadata": {},
   "source": [
    "Untuk mencari nilai dari parameter fungsi (koefisien) yang meminimalkan nilai fungsi sebanyak mungkin."
   ]
  },
  {
   "cell_type": "markdown",
   "metadata": {},
   "source": [
    "● Apa itu Stochastic Gradient Descent ?"
   ]
  },
  {
   "cell_type": "markdown",
   "metadata": {},
   "source": [
    "Stochastic Gradient Descent adalah gradient descent yang hanya menghitung satu atau beberapa contoh data (sample)"
   ]
  },
  {
   "cell_type": "markdown",
   "metadata": {},
   "source": [
    "## Q3"
   ]
  },
  {
   "cell_type": "markdown",
   "metadata": {},
   "source": [
    "Berhenti investasi pada x = 5 karena saat x = 5 maka nilai f(x) mencapai maksimal\n",
    "\n",
    "f(x) = -(1/2) x^2 + 5 x + 2\n",
    "\n",
    "f'(x) = - x + 5\n",
    "\n",
    "0 = - x + 5 <=> x = 5"
   ]
  },
  {
   "cell_type": "markdown",
   "metadata": {},
   "source": [
    "## Q4"
   ]
  },
  {
   "cell_type": "code",
   "execution_count": 121,
   "metadata": {},
   "outputs": [],
   "source": [
    "nf = [100,49,41,40,25,21,21,19,19,18,18,16,15,15,15,15,14,14,13,13,13,13,12,12,11,10,10,10,10,10,10,10,10,10,10,10,10,10,10,10,9,9,9,9,9,9,9,9,9,9,9,9,9,9,9,9,9,9,8,8,8,8,8,8,8,8,8,8,8,8,8,7,7,7,7,7,7,7,7,7,7,7,7,7,7,7,6,6,6,6,6,6,6,6,6,6,6,6,6,6,6,6,6,6,6,6,6,6,5,5,5,5,5,5,5,5,5,5,5,5,5,5,5,5,5,4,4,4,4,4,4,4,4,4,4,4,4,4,4,4,4,4,4,4,4,3,3,3,3,3,3,3,3,3,3,3,3,3,3,3,3,3,3,3,3,2,2,2,2,2,2,2,2,2,2,2,2,2,2,2,2,2,1,1,1,1,1,1,1,1,1,1,1,1,1,1,1,1,1,1,1,1,1,1]\n",
    "\n",
    "dm = [1,68.77,51.25,52.08,38.36,44.54,57.13,51.4,41.42,31.22,34.76,54.01,38.79,47.59,49.1,27.66,41.03,36.73,48.65,28.12,46.62,35.57,32.98,35,26.07,23.77,39.73,40.57,31.65,31.21,36.32,20.45,21.93,26.02,27.34,23.49,46.94,30.5,33.8,24.23,21.4,27.94,32.24,40.57,25.07,19.42,22.39,18.42,46.96,23.72,26.41,26.97,36.76,40.32,35.02,29.47,30.2,31,38.11,38.18,36.31,21.03,30.86,36.07,28.66,29.08,37.28,15.28,24.17,22.31,30.17,25.53,19.85,35.37,44.6,17.23,13.47,26.33,35.02,32.09,24.81,19.33,28.77,24.26,31.98,25.73,24.86,16.28,34.51,15.23,39.72,40.8,26.06,35.76,34.76,16.13,44.04,18.03,19.65,32.62,35.59,39.43,14.18,35.24,40.13,41.82,35.45,36.07,43.67,24.61,20.9,21.9,18.79,27.61,27.21,26.61,29.77,20.59,27.53,13.82,33.2,25,33.1,36.65,18.63,14.87,22.2,36.81,25.53,24.62,26.25,18.21,28.08,19.42,29.79,32.8,35.99,28.32,27.79,35.88,29.06,36.28,14.1,36.63,37.49,26.9,18.58,38.48,24.48,18.95,33.55,14.24,29.04,32.51,25.63,22.22,19,32.73,15.16,13.9,27.2,32.01,29.27,33,13.74,20.42,27.32,18.23,35.35,28.48,9.08,24.62,20.12,35.26,19.92,31.02,16.49,12.16,30.7,31.22,34.65,13.13,27.51,33.2,31.57,14.1,33.42,17.44,10.12,24.42,9.82,23.39,30.93,15.03,21.67,31.09,33.29,22.61,26.89,23.48,8.38,27.81,32.35,23.84]\n",
    "\n",
    "num_friends = np.reshape(nf, (-1, 1))\n",
    "daily_minutes = np.reshape(dm, (-1, 1))"
   ]
  },
  {
   "cell_type": "code",
   "execution_count": 122,
   "metadata": {},
   "outputs": [
    {
     "data": {
      "image/png": "[encoded data removed]",
      "text/plain": [
       "<matplotlib.figure.Figure at 0xa200af0>"
      ]
     },
     "metadata": {},
     "output_type": "display_data"
    }
   ],
   "source": [
    "regr = linear_model.LinearRegression()\n",
    "\n",
    "regr.fit(num_friends, daily_minutes)\n",
    "\n",
    "daily_minutes_pred = regr.predict(num_friends)\n",
    "\n",
    "plt.scatter(num_friends, daily_minutes,  color='black')\n",
    "plt.plot(num_friends, daily_minutes_pred, color='blue', linewidth=3)\n",
    "plt.xlim(0, 50)\n",
    "plt.xlabel('num_friends')\n",
    "plt.ylabel('daily_minutes')\n",
    "plt.show()"
   ]
  },
  {
   "cell_type": "code",
   "execution_count": 124,
   "metadata": {},
   "outputs": [
    {
     "data": {
      "image/png": "[encoded data removed]",
      "text/plain": [
       "<matplotlib.figure.Figure at 0xa1fad30>"
      ]
     },
     "metadata": {},
     "output_type": "display_data"
    }
   ],
   "source": [
    "import numpy as np\n",
    "import random\n",
    "\n",
    "def gradientDescent(x, y, theta, alpha, m, numIterations):\n",
    "    xTrans = x.transpose()\n",
    "    for i in range(0, numIterations):\n",
    "        hypothesis = np.dot(x, theta)\n",
    "        loss = hypothesis - y\n",
    "        cost = np.sum(loss ** 2) / (2 * m)\n",
    "        gradient = np.dot(xTrans, loss) / m\n",
    "        theta = theta - alpha * gradient\n",
    "    return theta\n",
    "\n",
    "# change to matrix\n",
    "x = np.zeros(shape=(len(nf), 2))\n",
    "y = np.zeros(shape=len(nf))\n",
    "\n",
    "i = 0\n",
    "for d in nf:\n",
    "    x[i][0] = 1\n",
    "    x[i][1] = d\n",
    "\n",
    "    y[i] = dm[i]\n",
    "    i += 1\n",
    "\n",
    "m, n = np.shape(x)\n",
    "numIterations= 100000\n",
    "alpha = 0.0005\n",
    "theta = np.ones(n)\n",
    "theta = gradientDescent(x, y, theta, alpha, m, numIterations)\n",
    "\n",
    "# y = mx + c\n",
    "c = theta[0] \n",
    "m = theta[1] \n",
    "pred_gradient_descent = np.zeros(shape=len(nf))\n",
    "i = 0\n",
    "\n",
    "for d in nf:\n",
    "    pred_gradient_descent[i] = m * d + c\n",
    "    i += 1\n",
    "    \n",
    "plt.scatter(nf, dm, color='black')\n",
    "plt.plot(nf, pred_gradient_descent, color='red', linewidth=3)\n",
    "plt.xlim(0, 50)\n",
    "plt.xlabel('num_friends')\n",
    "plt.ylabel('daily_minutes')\n",
    "plt.show()"
   ]
  }
 ],
 "metadata": {
  "kernelspec": {
   "display_name": "Python 3",
   "language": "python",
   "name": "python3"
  },
  "language_info": {
   "codemirror_mode": {
    "name": "ipython",
    "version": 3
   },
   "file_extension": ".py",
   "mimetype": "text/x-python",
   "name": "python",
   "nbconvert_exporter": "python",
   "pygments_lexer": "ipython3",
   "version": "3.6.5"
  }
 },
 "nbformat": 4,
 "nbformat_minor": 2
}
